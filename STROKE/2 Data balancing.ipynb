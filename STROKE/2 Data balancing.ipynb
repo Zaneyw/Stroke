{
 "cells": [
  {
   "cell_type": "code",
   "execution_count": 1,
   "metadata": {},
   "outputs": [],
   "source": [
    "import numpy as np\n",
    "import pandas as pd\n",
    "\n",
    "from sklearn.model_selection import train_test_split\n",
    "from sklearn.metrics import accuracy_score, recall_score\n",
    "from sklearn.ensemble import RandomForestClassifier\n",
    "\n",
    "import matplotlib.pyplot as plt\n",
    "from collections import Counter"
   ]
  },
  {
   "cell_type": "code",
   "execution_count": 2,
   "metadata": {},
   "outputs": [
    {
     "data": {
      "text/html": [
       "<div>\n",
       "<style scoped>\n",
       "    .dataframe tbody tr th:only-of-type {\n",
       "        vertical-align: middle;\n",
       "    }\n",
       "\n",
       "    .dataframe tbody tr th {\n",
       "        vertical-align: top;\n",
       "    }\n",
       "\n",
       "    .dataframe thead th {\n",
       "        text-align: right;\n",
       "    }\n",
       "</style>\n",
       "<table border=\"1\" class=\"dataframe\">\n",
       "  <thead>\n",
       "    <tr style=\"text-align: right;\">\n",
       "      <th></th>\n",
       "      <th>NIHSS</th>\n",
       "      <th>original_shape_Elongation</th>\n",
       "      <th>original_firstorder_Skewness</th>\n",
       "      <th>original_glcm_SumSquares</th>\n",
       "      <th>original_gldm_SmallDependenceLowGrayLevelEmphasis</th>\n",
       "      <th>wavelet-LLH_glrlm_GrayLevelVariance</th>\n",
       "      <th>wavelet-LLH_glrlm_ShortRunEmphasis</th>\n",
       "      <th>wavelet-LLH_gldm_GrayLevelVariance</th>\n",
       "      <th>wavelet-LLH_glszm_GrayLevelNonUniformity</th>\n",
       "      <th>wavelet-LHL_firstorder_90Percentile</th>\n",
       "      <th>...</th>\n",
       "      <th>Drinkalcohol _1.0</th>\n",
       "      <th>Drinkalcohol _2.0</th>\n",
       "      <th>Drinkalcohol _nan</th>\n",
       "      <th>Drinkalcohol _-1</th>\n",
       "      <th>OCSP_4.0</th>\n",
       "      <th>OCSP_3.0</th>\n",
       "      <th>OCSP_2.0</th>\n",
       "      <th>OCSP_1.0</th>\n",
       "      <th>OCSP_nan</th>\n",
       "      <th>OCSP_-1</th>\n",
       "    </tr>\n",
       "  </thead>\n",
       "  <tbody>\n",
       "    <tr>\n",
       "      <th>0</th>\n",
       "      <td>1</td>\n",
       "      <td>0.738549</td>\n",
       "      <td>0.839896</td>\n",
       "      <td>0.124461</td>\n",
       "      <td>0.177170</td>\n",
       "      <td>0.0</td>\n",
       "      <td>0.548433</td>\n",
       "      <td>0.000000</td>\n",
       "      <td>0.160000</td>\n",
       "      <td>0.167006</td>\n",
       "      <td>...</td>\n",
       "      <td>1</td>\n",
       "      <td>0</td>\n",
       "      <td>0</td>\n",
       "      <td>0</td>\n",
       "      <td>1</td>\n",
       "      <td>0</td>\n",
       "      <td>0</td>\n",
       "      <td>0</td>\n",
       "      <td>0</td>\n",
       "      <td>0</td>\n",
       "    </tr>\n",
       "    <tr>\n",
       "      <th>1</th>\n",
       "      <td>0</td>\n",
       "      <td>0.565605</td>\n",
       "      <td>0.470144</td>\n",
       "      <td>0.373676</td>\n",
       "      <td>0.029411</td>\n",
       "      <td>0.0</td>\n",
       "      <td>0.431860</td>\n",
       "      <td>0.000000</td>\n",
       "      <td>0.160000</td>\n",
       "      <td>0.491783</td>\n",
       "      <td>...</td>\n",
       "      <td>1</td>\n",
       "      <td>0</td>\n",
       "      <td>0</td>\n",
       "      <td>0</td>\n",
       "      <td>0</td>\n",
       "      <td>1</td>\n",
       "      <td>0</td>\n",
       "      <td>0</td>\n",
       "      <td>0</td>\n",
       "      <td>0</td>\n",
       "    </tr>\n",
       "    <tr>\n",
       "      <th>2</th>\n",
       "      <td>0</td>\n",
       "      <td>0.451330</td>\n",
       "      <td>0.392714</td>\n",
       "      <td>0.068449</td>\n",
       "      <td>0.106469</td>\n",
       "      <td>0.0</td>\n",
       "      <td>0.495983</td>\n",
       "      <td>0.000000</td>\n",
       "      <td>0.160000</td>\n",
       "      <td>0.497301</td>\n",
       "      <td>...</td>\n",
       "      <td>1</td>\n",
       "      <td>0</td>\n",
       "      <td>0</td>\n",
       "      <td>0</td>\n",
       "      <td>1</td>\n",
       "      <td>0</td>\n",
       "      <td>0</td>\n",
       "      <td>0</td>\n",
       "      <td>0</td>\n",
       "      <td>0</td>\n",
       "    </tr>\n",
       "    <tr>\n",
       "      <th>3</th>\n",
       "      <td>1</td>\n",
       "      <td>0.526684</td>\n",
       "      <td>0.559507</td>\n",
       "      <td>0.259127</td>\n",
       "      <td>0.101416</td>\n",
       "      <td>0.0</td>\n",
       "      <td>0.527322</td>\n",
       "      <td>0.000000</td>\n",
       "      <td>0.160000</td>\n",
       "      <td>0.502619</td>\n",
       "      <td>...</td>\n",
       "      <td>1</td>\n",
       "      <td>0</td>\n",
       "      <td>0</td>\n",
       "      <td>0</td>\n",
       "      <td>1</td>\n",
       "      <td>0</td>\n",
       "      <td>0</td>\n",
       "      <td>0</td>\n",
       "      <td>0</td>\n",
       "      <td>0</td>\n",
       "    </tr>\n",
       "    <tr>\n",
       "      <th>4</th>\n",
       "      <td>1</td>\n",
       "      <td>0.361088</td>\n",
       "      <td>0.537769</td>\n",
       "      <td>0.358092</td>\n",
       "      <td>0.136858</td>\n",
       "      <td>0.0</td>\n",
       "      <td>0.496154</td>\n",
       "      <td>0.000000</td>\n",
       "      <td>0.160000</td>\n",
       "      <td>0.287731</td>\n",
       "      <td>...</td>\n",
       "      <td>1</td>\n",
       "      <td>0</td>\n",
       "      <td>0</td>\n",
       "      <td>0</td>\n",
       "      <td>1</td>\n",
       "      <td>0</td>\n",
       "      <td>0</td>\n",
       "      <td>0</td>\n",
       "      <td>0</td>\n",
       "      <td>0</td>\n",
       "    </tr>\n",
       "    <tr>\n",
       "      <th>...</th>\n",
       "      <td>...</td>\n",
       "      <td>...</td>\n",
       "      <td>...</td>\n",
       "      <td>...</td>\n",
       "      <td>...</td>\n",
       "      <td>...</td>\n",
       "      <td>...</td>\n",
       "      <td>...</td>\n",
       "      <td>...</td>\n",
       "      <td>...</td>\n",
       "      <td>...</td>\n",
       "      <td>...</td>\n",
       "      <td>...</td>\n",
       "      <td>...</td>\n",
       "      <td>...</td>\n",
       "      <td>...</td>\n",
       "      <td>...</td>\n",
       "      <td>...</td>\n",
       "      <td>...</td>\n",
       "      <td>...</td>\n",
       "      <td>...</td>\n",
       "    </tr>\n",
       "    <tr>\n",
       "      <th>436</th>\n",
       "      <td>1</td>\n",
       "      <td>0.612372</td>\n",
       "      <td>0.399782</td>\n",
       "      <td>0.162807</td>\n",
       "      <td>1.000000</td>\n",
       "      <td>0.0</td>\n",
       "      <td>0.495726</td>\n",
       "      <td>0.027778</td>\n",
       "      <td>0.142222</td>\n",
       "      <td>0.617653</td>\n",
       "      <td>...</td>\n",
       "      <td>1</td>\n",
       "      <td>0</td>\n",
       "      <td>0</td>\n",
       "      <td>0</td>\n",
       "      <td>0</td>\n",
       "      <td>1</td>\n",
       "      <td>0</td>\n",
       "      <td>0</td>\n",
       "      <td>0</td>\n",
       "      <td>0</td>\n",
       "    </tr>\n",
       "    <tr>\n",
       "      <th>437</th>\n",
       "      <td>1</td>\n",
       "      <td>0.381966</td>\n",
       "      <td>0.474117</td>\n",
       "      <td>0.412876</td>\n",
       "      <td>1.000000</td>\n",
       "      <td>0.0</td>\n",
       "      <td>0.512821</td>\n",
       "      <td>0.062500</td>\n",
       "      <td>0.040000</td>\n",
       "      <td>0.364419</td>\n",
       "      <td>...</td>\n",
       "      <td>0</td>\n",
       "      <td>1</td>\n",
       "      <td>0</td>\n",
       "      <td>0</td>\n",
       "      <td>1</td>\n",
       "      <td>0</td>\n",
       "      <td>0</td>\n",
       "      <td>0</td>\n",
       "      <td>0</td>\n",
       "      <td>0</td>\n",
       "    </tr>\n",
       "    <tr>\n",
       "      <th>438</th>\n",
       "      <td>0</td>\n",
       "      <td>0.408248</td>\n",
       "      <td>0.778201</td>\n",
       "      <td>0.033750</td>\n",
       "      <td>1.000000</td>\n",
       "      <td>0.0</td>\n",
       "      <td>0.536325</td>\n",
       "      <td>0.015625</td>\n",
       "      <td>0.110000</td>\n",
       "      <td>0.252465</td>\n",
       "      <td>...</td>\n",
       "      <td>1</td>\n",
       "      <td>0</td>\n",
       "      <td>0</td>\n",
       "      <td>0</td>\n",
       "      <td>1</td>\n",
       "      <td>0</td>\n",
       "      <td>0</td>\n",
       "      <td>0</td>\n",
       "      <td>0</td>\n",
       "      <td>0</td>\n",
       "    </tr>\n",
       "    <tr>\n",
       "      <th>439</th>\n",
       "      <td>1</td>\n",
       "      <td>0.577350</td>\n",
       "      <td>0.495877</td>\n",
       "      <td>0.173803</td>\n",
       "      <td>1.000000</td>\n",
       "      <td>0.0</td>\n",
       "      <td>0.613248</td>\n",
       "      <td>0.040000</td>\n",
       "      <td>0.089600</td>\n",
       "      <td>0.544976</td>\n",
       "      <td>...</td>\n",
       "      <td>0</td>\n",
       "      <td>1</td>\n",
       "      <td>0</td>\n",
       "      <td>0</td>\n",
       "      <td>0</td>\n",
       "      <td>1</td>\n",
       "      <td>0</td>\n",
       "      <td>0</td>\n",
       "      <td>0</td>\n",
       "      <td>0</td>\n",
       "    </tr>\n",
       "    <tr>\n",
       "      <th>440</th>\n",
       "      <td>1</td>\n",
       "      <td>0.663610</td>\n",
       "      <td>0.402581</td>\n",
       "      <td>0.179097</td>\n",
       "      <td>1.000000</td>\n",
       "      <td>0.0</td>\n",
       "      <td>0.798779</td>\n",
       "      <td>0.503472</td>\n",
       "      <td>0.257515</td>\n",
       "      <td>0.274903</td>\n",
       "      <td>...</td>\n",
       "      <td>1</td>\n",
       "      <td>0</td>\n",
       "      <td>0</td>\n",
       "      <td>0</td>\n",
       "      <td>0</td>\n",
       "      <td>1</td>\n",
       "      <td>0</td>\n",
       "      <td>0</td>\n",
       "      <td>0</td>\n",
       "      <td>0</td>\n",
       "    </tr>\n",
       "  </tbody>\n",
       "</table>\n",
       "<p>441 rows × 91 columns</p>\n",
       "</div>"
      ],
      "text/plain": [
       "     NIHSS  original_shape_Elongation  original_firstorder_Skewness  \\\n",
       "0        1                   0.738549                      0.839896   \n",
       "1        0                   0.565605                      0.470144   \n",
       "2        0                   0.451330                      0.392714   \n",
       "3        1                   0.526684                      0.559507   \n",
       "4        1                   0.361088                      0.537769   \n",
       "..     ...                        ...                           ...   \n",
       "436      1                   0.612372                      0.399782   \n",
       "437      1                   0.381966                      0.474117   \n",
       "438      0                   0.408248                      0.778201   \n",
       "439      1                   0.577350                      0.495877   \n",
       "440      1                   0.663610                      0.402581   \n",
       "\n",
       "     original_glcm_SumSquares  \\\n",
       "0                    0.124461   \n",
       "1                    0.373676   \n",
       "2                    0.068449   \n",
       "3                    0.259127   \n",
       "4                    0.358092   \n",
       "..                        ...   \n",
       "436                  0.162807   \n",
       "437                  0.412876   \n",
       "438                  0.033750   \n",
       "439                  0.173803   \n",
       "440                  0.179097   \n",
       "\n",
       "     original_gldm_SmallDependenceLowGrayLevelEmphasis  \\\n",
       "0                                             0.177170   \n",
       "1                                             0.029411   \n",
       "2                                             0.106469   \n",
       "3                                             0.101416   \n",
       "4                                             0.136858   \n",
       "..                                                 ...   \n",
       "436                                           1.000000   \n",
       "437                                           1.000000   \n",
       "438                                           1.000000   \n",
       "439                                           1.000000   \n",
       "440                                           1.000000   \n",
       "\n",
       "     wavelet-LLH_glrlm_GrayLevelVariance  wavelet-LLH_glrlm_ShortRunEmphasis  \\\n",
       "0                                    0.0                            0.548433   \n",
       "1                                    0.0                            0.431860   \n",
       "2                                    0.0                            0.495983   \n",
       "3                                    0.0                            0.527322   \n",
       "4                                    0.0                            0.496154   \n",
       "..                                   ...                                 ...   \n",
       "436                                  0.0                            0.495726   \n",
       "437                                  0.0                            0.512821   \n",
       "438                                  0.0                            0.536325   \n",
       "439                                  0.0                            0.613248   \n",
       "440                                  0.0                            0.798779   \n",
       "\n",
       "     wavelet-LLH_gldm_GrayLevelVariance  \\\n",
       "0                              0.000000   \n",
       "1                              0.000000   \n",
       "2                              0.000000   \n",
       "3                              0.000000   \n",
       "4                              0.000000   \n",
       "..                                  ...   \n",
       "436                            0.027778   \n",
       "437                            0.062500   \n",
       "438                            0.015625   \n",
       "439                            0.040000   \n",
       "440                            0.503472   \n",
       "\n",
       "     wavelet-LLH_glszm_GrayLevelNonUniformity  \\\n",
       "0                                    0.160000   \n",
       "1                                    0.160000   \n",
       "2                                    0.160000   \n",
       "3                                    0.160000   \n",
       "4                                    0.160000   \n",
       "..                                        ...   \n",
       "436                                  0.142222   \n",
       "437                                  0.040000   \n",
       "438                                  0.110000   \n",
       "439                                  0.089600   \n",
       "440                                  0.257515   \n",
       "\n",
       "     wavelet-LHL_firstorder_90Percentile  ...  Drinkalcohol _1.0  \\\n",
       "0                               0.167006  ...                  1   \n",
       "1                               0.491783  ...                  1   \n",
       "2                               0.497301  ...                  1   \n",
       "3                               0.502619  ...                  1   \n",
       "4                               0.287731  ...                  1   \n",
       "..                                   ...  ...                ...   \n",
       "436                             0.617653  ...                  1   \n",
       "437                             0.364419  ...                  0   \n",
       "438                             0.252465  ...                  1   \n",
       "439                             0.544976  ...                  0   \n",
       "440                             0.274903  ...                  1   \n",
       "\n",
       "     Drinkalcohol _2.0  Drinkalcohol _nan  Drinkalcohol _-1  OCSP_4.0  \\\n",
       "0                    0                  0                 0         1   \n",
       "1                    0                  0                 0         0   \n",
       "2                    0                  0                 0         1   \n",
       "3                    0                  0                 0         1   \n",
       "4                    0                  0                 0         1   \n",
       "..                 ...                ...               ...       ...   \n",
       "436                  0                  0                 0         0   \n",
       "437                  1                  0                 0         1   \n",
       "438                  0                  0                 0         1   \n",
       "439                  1                  0                 0         0   \n",
       "440                  0                  0                 0         0   \n",
       "\n",
       "     OCSP_3.0  OCSP_2.0  OCSP_1.0  OCSP_nan  OCSP_-1  \n",
       "0           0         0         0         0        0  \n",
       "1           1         0         0         0        0  \n",
       "2           0         0         0         0        0  \n",
       "3           0         0         0         0        0  \n",
       "4           0         0         0         0        0  \n",
       "..        ...       ...       ...       ...      ...  \n",
       "436         1         0         0         0        0  \n",
       "437         0         0         0         0        0  \n",
       "438         0         0         0         0        0  \n",
       "439         1         0         0         0        0  \n",
       "440         1         0         0         0        0  \n",
       "\n",
       "[441 rows x 91 columns]"
      ]
     },
     "execution_count": 2,
     "metadata": {},
     "output_type": "execute_result"
    }
   ],
   "source": [
    "path = './dataset/combine/1.storke_combine_code_multi.csv'  # 数据文件路径\n",
    "data = pd.read_csv(path)\n",
    "data"
   ]
  },
  {
   "cell_type": "code",
   "execution_count": 3,
   "metadata": {},
   "outputs": [],
   "source": [
    "X = data.iloc[:,1:]\n",
    "Y = data.iloc[:,0]\n",
    "y = pd.Categorical(Y).codes #把文本数据进行编码，比如a b c编码为 0 1 2\n",
    "\n",
    "## 数据分割\n",
    "x_train, x_test, y_train, y_test = train_test_split(X, y, random_state=3, train_size=0.3)"
   ]
  },
  {
   "cell_type": "code",
   "execution_count": 4,
   "metadata": {},
   "outputs": [
    {
     "data": {
      "image/png": "[encoded data removed]",
      "text/plain": [
       "<Figure size 640x480 with 1 Axes>"
      ]
     },
     "metadata": {},
     "output_type": "display_data"
    }
   ],
   "source": [
    "def rf_model(k):\n",
    "    return RandomForestClassifier(n_estimators = k, criterion=\"gini\")\n",
    "\n",
    "def svc_model(model):\n",
    "    model.fit(x_train, y_train)\n",
    "    acu_train = model.score(x_train, y_train)\n",
    "    acu_test = model.score(x_test, y_test)\n",
    "    y_pred = model.predict(x_test)\n",
    "    recall = recall_score(y_test, y_pred, average=\"macro\")\n",
    "    return acu_train, acu_test, recall\n",
    "    \n",
    "def run_rf(kmax):\n",
    "    result = {\n",
    "              \"k\":[],\n",
    "              \"acu_train\": [],\n",
    "              \"acu_test\": [],\n",
    "              \"recall\": []\n",
    "              }\n",
    "    for i in range(1,kmax+1):\n",
    "        acu_train, acu_test, recall = svc_model(rf_model(i))\n",
    "        result[\"k\"].append(i)\n",
    "        result[\"acu_train\"].append(acu_train)\n",
    "        result[\"acu_test\"].append(acu_test)\n",
    "        result[\"recall\"].append(recall)\n",
    "    return pd.DataFrame(result)\n",
    "\n",
    "df = run_rf(40)\n",
    "df[\"acu_test\"].plot(color='orangered')\n",
    "df[\"acu_train\"].plot()\n",
    "plt.xlim(1,40)\n",
    "plt.ylim(0.5,1.1)\n",
    "plt.show()"
   ]
  },
  {
   "cell_type": "code",
   "execution_count": 5,
   "metadata": {},
   "outputs": [
    {
     "name": "stdout",
     "output_type": "stream",
     "text": [
      "Counter({1: 289, 0: 106, 2: 46})\n"
     ]
    }
   ],
   "source": [
    "print(Counter(y))"
   ]
  },
  {
   "cell_type": "code",
   "execution_count": 6,
   "metadata": {},
   "outputs": [
    {
     "name": "stdout",
     "output_type": "stream",
     "text": [
      "1.0 0.7766990291262136\n"
     ]
    }
   ],
   "source": [
    "model = RandomForestClassifier(n_estimators = 22, criterion=\"gini\",random_state=4)\n",
    "model.fit(x_train, y_train)\n",
    "acu_test = model.score(x_test, y_test)\n",
    "acu_train = model.score(x_train, y_train)\n",
    "print(acu_train,acu_test)"
   ]
  },
  {
   "cell_type": "code",
   "execution_count": 7,
   "metadata": {},
   "outputs": [
    {
     "name": "stdout",
     "output_type": "stream",
     "text": [
      "Counter({1: 289, 0: 289, 2: 289})\n"
     ]
    }
   ],
   "source": [
    "from imblearn.over_sampling import RandomOverSampler\n",
    "ros = RandomOverSampler()\n",
    "X1_resampled, y1_resampled = ros.fit_resample(X, y)\n",
    "print(Counter(y1_resampled))"
   ]
  },
  {
   "cell_type": "code",
   "execution_count": 8,
   "metadata": {},
   "outputs": [
    {
     "name": "stdout",
     "output_type": "stream",
     "text": [
      "1.0 0.8121911037891268\n"
     ]
    }
   ],
   "source": [
    "x_train, x_test, y_train, y_test = train_test_split(X1_resampled, y1_resampled, random_state=3, train_size=0.3)\n",
    "model = RandomForestClassifier(n_estimators = 22, criterion=\"gini\",random_state=4)\n",
    "model.fit(x_train, y_train)\n",
    "acu_test = model.score(x_test, y_test)\n",
    "acu_train = model.score(x_train, y_train)\n",
    "print(acu_train,acu_test)"
   ]
  },
  {
   "cell_type": "code",
   "execution_count": 9,
   "metadata": {},
   "outputs": [
    {
     "name": "stdout",
     "output_type": "stream",
     "text": [
      "[(0, 289), (1, 289), (2, 289)]\n"
     ]
    }
   ],
   "source": [
    "from imblearn.over_sampling import SMOTE, ADASYN\n",
    "X2_resampled, y2_resampled = SMOTE().fit_resample(X, y)\n",
    "print(sorted(Counter(y2_resampled).items()))"
   ]
  },
  {
   "cell_type": "code",
   "execution_count": 10,
   "metadata": {},
   "outputs": [
    {
     "name": "stdout",
     "output_type": "stream",
     "text": [
      "1.0 0.8072487644151565\n"
     ]
    }
   ],
   "source": [
    "x_train, x_test, y_train, y_test = train_test_split(X2_resampled, y2_resampled, random_state=3, train_size=0.3)\n",
    "model = RandomForestClassifier(n_estimators = 22, criterion=\"gini\",random_state=4)\n",
    "model.fit(x_train, y_train)\n",
    "acu_test = model.score(x_test, y_test)\n",
    "acu_train = model.score(x_train, y_train)\n",
    "print(acu_train,acu_test)"
   ]
  },
  {
   "cell_type": "code",
   "execution_count": 11,
   "metadata": {},
   "outputs": [
    {
     "name": "stdout",
     "output_type": "stream",
     "text": [
      "1.0 0.8116883116883117\n"
     ]
    }
   ],
   "source": [
    "X3_resampled, y3_resampled = ADASYN().fit_resample(X, y)\n",
    "x_train, x_test, y_train, y_test = train_test_split(X3_resampled, y3_resampled, random_state=3, train_size=0.3)\n",
    "model = RandomForestClassifier(n_estimators = 22, criterion=\"gini\",random_state=4)\n",
    "model.fit(x_train, y_train)\n",
    "acu_test = model.score(x_test, y_test)\n",
    "acu_train = model.score(x_train, y_train)\n",
    "print(acu_train,acu_test)"
   ]
  },
  {
   "cell_type": "code",
   "execution_count": 12,
   "metadata": {},
   "outputs": [
    {
     "name": "stdout",
     "output_type": "stream",
     "text": [
      "1.0 0.7957166392092258\n"
     ]
    }
   ],
   "source": [
    "from imblearn.over_sampling import BorderlineSMOTE\n",
    "X4_resampled, y4_resampled = BorderlineSMOTE().fit_resample(X, y)\n",
    "x_train, x_test, y_train, y_test = train_test_split(X4_resampled, y4_resampled, random_state=3, train_size=0.3)\n",
    "model = RandomForestClassifier(n_estimators = 22, criterion=\"gini\",random_state=4)\n",
    "model.fit(x_train, y_train)\n",
    "acu_test = model.score(x_test, y_test)\n",
    "acu_train = model.score(x_train, y_train)\n",
    "print(acu_train,acu_test)"
   ]
  },
  {
   "cell_type": "code",
   "execution_count": 13,
   "metadata": {},
   "outputs": [
    {
     "name": "stdout",
     "output_type": "stream",
     "text": [
      "1.0 0.8401976935749588\n"
     ]
    }
   ],
   "source": [
    "from imblearn.over_sampling import BorderlineSMOTE\n",
    "X5_resampled, y5_resampled = BorderlineSMOTE(kind='borderline-1').fit_resample(X, y)\n",
    "x_train, x_test, y_train, y_test = train_test_split(X5_resampled, y5_resampled, random_state=3, train_size=0.3)\n",
    "model = RandomForestClassifier(n_estimators = 22, criterion=\"gini\",random_state=4)\n",
    "model.fit(x_train, y_train)\n",
    "acu_test = model.score(x_test, y_test)\n",
    "acu_train = model.score(x_train, y_train)\n",
    "print(acu_train,acu_test)"
   ]
  },
  {
   "cell_type": "code",
   "execution_count": 14,
   "metadata": {},
   "outputs": [
    {
     "name": "stdout",
     "output_type": "stream",
     "text": [
      "1.0 0.7660626029654036\n"
     ]
    }
   ],
   "source": [
    "from imblearn.over_sampling import BorderlineSMOTE\n",
    "X6_resampled, y6_resampled = BorderlineSMOTE(kind='borderline-2').fit_resample(X, y)\n",
    "x_train, x_test, y_train, y_test = train_test_split(X6_resampled, y6_resampled, random_state=3, train_size=0.3)\n",
    "model = RandomForestClassifier(n_estimators = 22, criterion=\"gini\",random_state=4)\n",
    "model.fit(x_train, y_train)\n",
    "acu_test = model.score(x_test, y_test)\n",
    "acu_train = model.score(x_train, y_train)\n",
    "print(acu_train,acu_test)"
   ]
  },
  {
   "cell_type": "code",
   "execution_count": 15,
   "metadata": {
    "scrolled": true
   },
   "outputs": [
    {
     "name": "stdout",
     "output_type": "stream",
     "text": [
      "1.0 0.82\n",
      "0.9953051643192489 0.814\n",
      "1.0 0.822\n",
      "1.0 0.78\n",
      "1.0 0.804\n",
      "1.0 0.79\n",
      "1.0 0.792\n",
      "0.9953051643192489 0.796\n",
      "0.9953051643192489 0.788\n",
      "1.0 0.798\n",
      "0.9953051643192489 0.806\n",
      "0.9906103286384976 0.796\n",
      "0.9953051643192489 0.792\n",
      "0.9953051643192489 0.798\n",
      "0.9953051643192489 0.796\n",
      "0.9953051643192489 0.782\n",
      "0.9953051643192489 0.772\n",
      "0.9953051643192489 0.77\n",
      "1.0 0.81\n"
     ]
    }
   ],
   "source": [
    "from imblearn.over_sampling import SVMSMOTE\n",
    "# sampling = {'minority','not minority','not majority','all',dict}\n",
    "# for each in sampling:\n",
    "for i in range(1,20):\n",
    "    X7_resampled, y7_resampled = SVMSMOTE(sampling_strategy = 'not majority',random_state=4,k_neighbors=i).fit_resample(X, y)\n",
    "    x_train, x_test, y_train, y_test = train_test_split(X7_resampled, y7_resampled, random_state=3, train_size=0.3)\n",
    "    model = RandomForestClassifier(n_estimators = 22, criterion=\"gini\",random_state=4)\n",
    "    model.fit(x_train, y_train)\n",
    "    acu_test = model.score(x_test, y_test)\n",
    "    acu_train = model.score(x_train, y_train)\n",
    "    print(acu_train,acu_test)"
   ]
  },
  {
   "cell_type": "code",
   "execution_count": 16,
   "metadata": {
    "scrolled": true
   },
   "outputs": [
    {
     "name": "stdout",
     "output_type": "stream",
     "text": [
      "0.9953051643192489 0.796\n",
      "1.0 0.792\n",
      "0.9953051643192489 0.782\n",
      "1.0 0.816\n",
      "1.0 0.804\n",
      "1.0 0.79\n",
      "1.0 0.774\n",
      "1.0 0.764\n",
      "1.0 0.798\n"
     ]
    }
   ],
   "source": [
    "from imblearn.over_sampling import SVMSMOTE\n",
    "import sklearn.svm as svm\n",
    "add = {0.1,0.2,0.3,0.4,0.5,0.6,0.7,0.8,0.9}\n",
    "for i in add:\n",
    "    X7_resampled, y7_resampled = SVMSMOTE(sampling_strategy = 'not majority',random_state=4,k_neighbors=5,out_step=i).fit_resample(X, y)\n",
    "    x_train, x_test, y_train, y_test = train_test_split(X7_resampled, y7_resampled, random_state=3, train_size=0.3)\n",
    "    model = RandomForestClassifier(n_estimators = 22, criterion=\"gini\",random_state=4)\n",
    "    model.fit(x_train, y_train)\n",
    "    acu_test = model.score(x_test, y_test)\n",
    "    acu_train = model.score(x_train, y_train)\n",
    "    print(acu_train,acu_test)"
   ]
  },
  {
   "cell_type": "code",
   "execution_count": 16,
   "metadata": {},
   "outputs": [
    {
     "name": "stdout",
     "output_type": "stream",
     "text": [
      "1.0 0.8656036446469249\n"
     ]
    }
   ],
   "source": [
    "from imblearn.combine import SMOTEENN\n",
    "smote_enn = SMOTEENN(random_state=2)\n",
    "X8_resampled, y8_resampled = smote_enn.fit_resample(X, y)\n",
    "x_train, x_test, y_train, y_test = train_test_split(X8_resampled, y8_resampled, random_state=3, train_size=0.3)\n",
    "model = RandomForestClassifier(n_estimators = 45, criterion=\"gini\",random_state=4)\n",
    "model.fit(x_train, y_train)\n",
    "acu_test = model.score(x_test, y_test)\n",
    "acu_train = model.score(x_train, y_train)\n",
    "print(acu_train,acu_test)"
   ]
  },
  {
   "cell_type": "code",
   "execution_count": 17,
   "metadata": {},
   "outputs": [
    {
     "name": "stdout",
     "output_type": "stream",
     "text": [
      "[(0, 106), (1, 289), (2, 46)]\n"
     ]
    }
   ],
   "source": [
    "print(sorted(Counter(y).items()))"
   ]
  },
  {
   "cell_type": "code",
   "execution_count": 18,
   "metadata": {},
   "outputs": [
    {
     "name": "stdout",
     "output_type": "stream",
     "text": [
      "[(0, 235), (1, 103), (2, 288)]\n"
     ]
    }
   ],
   "source": [
    "print(sorted(Counter(y8_resampled).items()))"
   ]
  },
  {
   "cell_type": "code",
   "execution_count": 19,
   "metadata": {},
   "outputs": [
    {
     "name": "stdout",
     "output_type": "stream",
     "text": [
      "0.9961240310077519 0.8148760330578513\n"
     ]
    }
   ],
   "source": [
    "from imblearn.combine import SMOTETomek\n",
    "smote_tomek = SMOTETomek(random_state=0)\n",
    "X9_resampled, y9_resampled = smote_tomek.fit_resample(X, y)\n",
    "x_train, x_test, y_train, y_test = train_test_split(X9_resampled, y9_resampled, random_state=3, train_size=0.3)\n",
    "model = RandomForestClassifier(n_estimators = 22, criterion=\"gini\",random_state=4)\n",
    "model.fit(x_train, y_train)\n",
    "acu_test = model.score(x_test, y_test)\n",
    "acu_train = model.score(x_train, y_train)\n",
    "print(acu_train,acu_test)"
   ]
  },
  {
   "cell_type": "code",
   "execution_count": 20,
   "metadata": {},
   "outputs": [
    {
     "name": "stdout",
     "output_type": "stream",
     "text": [
      "[(0, 287), (1, 287), (2, 289)]\n"
     ]
    }
   ],
   "source": [
    "print(sorted(Counter(y9_resampled).items()))"
   ]
  },
  {
   "cell_type": "code",
   "execution_count": 22,
   "metadata": {},
   "outputs": [
    {
     "name": "stdout",
     "output_type": "stream",
     "text": [
      "[(0, 46), (1, 46), (2, 46)]\n",
      "1.0 0.6907216494845361\n"
     ]
    }
   ],
   "source": [
    "from imblearn.under_sampling import ClusterCentroids\n",
    "cc = ClusterCentroids(random_state=0)\n",
    "X10_resampled, y10_resampled = cc.fit_resample(X, y)\n",
    "print(sorted(Counter(y10_resampled).items()))\n",
    "x_train, x_test, y_train, y_test = train_test_split(X10_resampled, y10_resampled, random_state=3, train_size=0.3)\n",
    "model = RandomForestClassifier(n_estimators = 22, criterion=\"gini\",random_state=4)\n",
    "model.fit(x_train, y_train)\n",
    "acu_test = model.score(x_test, y_test)\n",
    "acu_train = model.score(x_train, y_train)\n",
    "print(acu_train,acu_test)"
   ]
  },
  {
   "cell_type": "code",
   "execution_count": 23,
   "metadata": {},
   "outputs": [
    {
     "name": "stdout",
     "output_type": "stream",
     "text": [
      "[(0, 46), (1, 46), (2, 46)]\n",
      "1.0 0.6907216494845361\n"
     ]
    }
   ],
   "source": [
    "from imblearn.under_sampling import RandomUnderSampler\n",
    "rus = RandomUnderSampler(random_state=0)\n",
    "X11_resampled, y11_resampled = rus.fit_resample(X, y)\n",
    "print(sorted(Counter(y11_resampled).items()))\n",
    "x_train, x_test, y_train, y_test = train_test_split(X10_resampled, y10_resampled, random_state=3, train_size=0.3)\n",
    "model = RandomForestClassifier(n_estimators = 22, criterion=\"gini\",random_state=4)\n",
    "model.fit(x_train, y_train)\n",
    "acu_test = model.score(x_test, y_test)\n",
    "acu_train = model.score(x_train, y_train)\n",
    "print(acu_train,acu_test)"
   ]
  },
  {
   "cell_type": "code",
   "execution_count": null,
   "metadata": {},
   "outputs": [],
   "source": []
  }
 ],
 "metadata": {
  "kernelspec": {
   "display_name": "Python 3",
   "language": "python",
   "name": "python3"
  },
  "language_info": {
   "codemirror_mode": {
    "name": "ipython",
    "version": 3
   },
   "file_extension": ".py",
   "mimetype": "text/x-python",
   "name": "python",
   "nbconvert_exporter": "python",
   "pygments_lexer": "ipython3",
   "version": "3.9.12"
  }
 },
 "nbformat": 4,
 "nbformat_minor": 4
}
