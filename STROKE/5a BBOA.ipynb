{
 "cells": [
  {
   "cell_type": "code",
   "execution_count": 1,
   "id": "60680292",
   "metadata": {},
   "outputs": [],
   "source": [
    "# Author : Zane(Ye Wei)\n",
    "# -*- coding = utf-8 -*-\n",
    "# @Time ：2022-04-02 16:28\n",
    "# @Author : 叶 伟\n",
    "# @File : 平行宇宙算法.py\n",
    "# @Software : jupyterlab"
   ]
  },
  {
   "cell_type": "code",
   "execution_count": 2,
   "id": "4a62cbea",
   "metadata": {},
   "outputs": [],
   "source": [
    "import numpy as np\n",
    "import random\n",
    "import matplotlib.pyplot as plt\n",
    "import math\n",
    "import pandas as pd\n",
    "import os\n",
    "\n",
    "from numpy import ndarray\n",
    "from sklearn.model_selection import train_test_split\n",
    "from sklearn.metrics import accuracy_score\n",
    "from sklearn.neural_network import MLPClassifier"
   ]
  },
  {
   "cell_type": "code",
   "execution_count": 3,
   "id": "dfe8f1d2",
   "metadata": {},
   "outputs": [],
   "source": [
    "df = pd.read_csv('./dataset/combine/2.storke_combine_code_multi_balance.csv')\n",
    "Y = np.array(df.pop('NIHSS'))\n",
    "X = np.array(df)\n",
    "x_train, x_test, y_train, y_test = train_test_split(X, Y, test_size=0.3, stratify=Y,random_state = 3)"
   ]
  },
  {
   "cell_type": "code",
   "execution_count": 6,
   "id": "ad740df9",
   "metadata": {},
   "outputs": [
    {
     "name": "stdout",
     "output_type": "stream",
     "text": [
      "WARNING:tensorflow:From C:\\Users\\Administrator\\AppData\\Roaming\\Python\\Python37\\site-packages\\tensorflow\\python\\compat\\v2_compat.py:107: disable_resource_variables (from tensorflow.python.ops.variable_scope) is deprecated and will be removed in a future version.\n",
      "Instructions for updating:\n",
      "non-resource variables are not supported in the long term\n"
     ]
    }
   ],
   "source": [
    "# -*- coding: utf-8 -*-\n",
    "import numpy as np\n",
    "import pandas as pd\n",
    "import os\n",
    "\n",
    "from sklearn.model_selection import train_test_split\n",
    "from sklearn.metrics import accuracy_score,auc,roc_curve\n",
    "from sklearn.preprocessing import LabelBinarizer,StandardScaler\n",
    "\n",
    "from sklearn import model_selection as cv\n",
    "from sklearn.model_selection import cross_val_score\n",
    "\n",
    "from sklearn import svm\n",
    "from sklearn import tree\n",
    "from sklearn.neural_network import MLPClassifier\n",
    "\n",
    "import matplotlib as mpl\n",
    "import matplotlib.pyplot as plt\n",
    "\n",
    "from dbn.tensorflow import SupervisedDBNClassification\n",
    "from sklearn.ensemble import RandomForestClassifier\n",
    "\n",
    "from tensorflow.keras.layers import Input,Dense,LSTM,GRU,BatchNormalization\n",
    "from tensorflow.keras.layers import PReLU\n",
    "from tensorflow.keras.models import Model\n",
    "from tensorflow.keras.optimizers import Adam\n",
    "from sklearn.metrics import mean_absolute_error as MAE\n",
    "import matplotlib.pyplot as plt\n",
    "import matplotlib.ticker as ticker"
   ]
  },
  {
   "cell_type": "code",
   "execution_count": 7,
   "id": "951bd47b",
   "metadata": {},
   "outputs": [],
   "source": [
    "import tensorflow.keras as K\n",
    "import tensorflow as tf"
   ]
  },
  {
   "cell_type": "code",
   "execution_count": 8,
   "id": "a6b4adcb",
   "metadata": {},
   "outputs": [],
   "source": [
    "Class = [0,1,2]\n",
    "Class_dict = dict(zip(Class, range(len(Class))))\n",
    "Class_dict\n",
    "lb = LabelBinarizer()\n",
    "lb.fit(list(Class_dict.values()))\n",
    "y_train_labels = lb.transform(y_train)"
   ]
  },
  {
   "cell_type": "code",
   "execution_count": 9,
   "id": "ef241a29",
   "metadata": {},
   "outputs": [],
   "source": [
    "def Predict(X):\n",
    "    RNN_test_label = []\n",
    "    Class = [0,1,2]\n",
    "    Class_dict = dict(zip(Class, range(len(Class))))\n",
    "    Class_dict\n",
    "    for i in range(0,X.shape[0]):\n",
    "        RNN_test_label.append(Class_dict[np.argmax(X[i])])\n",
    "    RNN_test_label = np.array(RNN_test_label,dtype = 'int64')\n",
    "    return RNN_test_label"
   ]
  },
  {
   "cell_type": "code",
   "execution_count": 10,
   "id": "421599a6",
   "metadata": {},
   "outputs": [],
   "source": [
    "def buildDNN(layer1,layer2,n_class):\n",
    "    init = K.initializers.glorot_uniform(seed=1)\n",
    "    simple_adam = tf.keras.optimizers.Adam()\n",
    "    model = K.models.Sequential()\n",
    "    model.add(K.layers.Dense(units=layer1, input_dim=90, kernel_initializer=init, activation='relu'))\n",
    "    model.add(K.layers.Dense(units=layer2, kernel_initializer=init, activation='relu'))\n",
    "    model.add(K.layers.Dense(units=n_class, kernel_initializer=init, activation='softmax'))\n",
    "    model.compile(loss='categorical_crossentropy', optimizer=simple_adam, metrics=['accuracy'])\n",
    "    model.summary()\n",
    "    return model"
   ]
  },
  {
   "cell_type": "code",
   "execution_count": 18,
   "id": "64fd6ee7",
   "metadata": {},
   "outputs": [],
   "source": [
    "# def buildDBN(layer1,layer2,epoca,K=500):\n",
    "    \n",
    "#     # cantidad de neuronas ocultas \n",
    "#     hidden_layers = []\n",
    "#     hidden_layers.append( int(layer1))\n",
    "#     hidden_layers.append( int(layer2))\n",
    "\n",
    "#     DBN_classifier = SupervisedDBNClassification(hidden_layers_structure = hidden_layers,\n",
    "#                                                     learning_rate_rbm=0.05,\n",
    "#                                                     learning_rate=0.1,\n",
    "#                                                     n_epochs_rbm=epoca,\n",
    "#                                                     n_iter_backprop=K,\n",
    "#                                                     batch_size=32,\n",
    "#                                                     activation_function='relu',\n",
    "#                                                     dropout_p=0.2)\n",
    "#     return DBN_classifier"
   ]
  },
  {
   "cell_type": "code",
   "execution_count": 19,
   "id": "cd9cb90b",
   "metadata": {
    "scrolled": true
   },
   "outputs": [],
   "source": [
    "# disdbn = np.zeros((50,50))\n",
    "# for i in range(1,10):\n",
    "#     for j in range(1,10):\n",
    "#         dbn = buildDBN(layer1=i,layer2=j,epoca=20,K=1000)\n",
    "#         dbn = dbn.fit(x_train, y_train)\n",
    "#         DBN_test_pred = dbn.predict(x_test)\n",
    "#         disdbn[i,j]= accuracy_score(y_test, DBN_test_pred)"
   ]
  },
  {
   "cell_type": "code",
   "execution_count": 21,
   "id": "0847a19c",
   "metadata": {},
   "outputs": [],
   "source": [
    "# for i in range(10,20):\n",
    "#     for j in range(10,20):\n",
    "#         dbn = buildDBN(layer1=i,layer2=j,epoca=20,K=1000)\n",
    "#         dbn = dbn.fit(x_train, y_train)\n",
    "#         DBN_test_pred = dbn.predict(x_test)\n",
    "#         disdbn[i,j]= accuracy_score(y_test, DBN_test_pred)"
   ]
  },
  {
   "cell_type": "code",
   "execution_count": 22,
   "id": "d2c99282",
   "metadata": {},
   "outputs": [],
   "source": [
    "# disdbn"
   ]
  },
  {
   "cell_type": "code",
   "execution_count": 23,
   "id": "28e8620a",
   "metadata": {},
   "outputs": [],
   "source": [
    "def buildLSTM(timeStep,inputColNum,outStep,i,j,learnRate=1e-4):\n",
    "\n",
    "    inputLayer = Input(shape=(timeStep,inputColNum))\n",
    "\n",
    "\n",
    "    middle = LSTM(i,activation='tanh')(inputLayer)\n",
    "    middle = Dense(j,activation='tanh')(middle)\n",
    "\n",
    "\n",
    "    outputLayer = Dense(outStep)(middle)\n",
    "    \n",
    "\n",
    "    model = Model(inputs=inputLayer,outputs=outputLayer)\n",
    "    optimizer = Adam(learning_rate=learnRate)\n",
    "    model.compile(optimizer=optimizer,loss='mse') \n",
    "    model.summary()\n",
    "    return model\n",
    "\n",
    "x_train_lstm = x_train.reshape(x_train.shape[0],1,x_train.shape[1])\n",
    "x_test_lstm = x_test.reshape(x_test.shape[0],1,x_test.shape[1])"
   ]
  },
  {
   "cell_type": "code",
   "execution_count": 26,
   "id": "3b863769",
   "metadata": {},
   "outputs": [],
   "source": [
    "def func(x,y):\n",
    "    # 目标恒星的能量程度\n",
    "    acc = dismat[x,y]\n",
    "    ACC = -acc\n",
    "    return ACC\n",
    "# def func(x,y):\n",
    "#     # 目标恒星的能量程度\n",
    "#     acc = dbndismat[x,y]\n",
    "#     ACC = -acc\n",
    "#     return ACC"
   ]
  },
  {
   "cell_type": "markdown",
   "id": "83fbf21e",
   "metadata": {},
   "source": [
    "# 平行宇宙算法"
   ]
  },
  {
   "cell_type": "code",
   "execution_count": 34,
   "id": "690b312f",
   "metadata": {},
   "outputs": [],
   "source": [
    "class PUSE(object):\n",
    "    def __init__(self, n, narvs, k, x_lb, x_ub):\n",
    "        self.n = n #恒星数量\n",
    "        self.narvs = narvs #宇宙的维度\n",
    "        self.x_lb = x_lb  # 宇宙的边界\n",
    "        self.x_ub = x_ub # 宇宙的边界\n",
    "        self.k = k # 膨胀的次数（时间）\n",
    "        \n",
    "        self.explore1 = 2 # 个体恒星的膨胀因子\n",
    "        self.explore2 = 2 # 所有恒星的膨胀因子\n",
    "        self.w_start = 5 # 恒星的冲击波\n",
    "        self.w_end = 1 # 恒星的冲击波\n",
    "        self.volumemax = 6 #最大爆炸能量\n",
    "\n",
    "        \n",
    "        self.x1 = [] #经度\n",
    "        self.x2 = [] #维度\n",
    "        self.e1 = []\n",
    "        self.e2 = []\n",
    "        self.fit = np.zeros((n,1))\n",
    "                \n",
    "        self.init_Star()\n",
    "        \n",
    "        self.x1 = np.array(self.x1).astype('int64')\n",
    "        self.x2 = np.array(self.x2).astype('int64')\n",
    "        \n",
    "        self.init_Energy()\n",
    "        \n",
    "        \n",
    "        self.xbest = []\n",
    "        self.prexbest = []\n",
    "\n",
    "        self.init_MAXenergy()\n",
    "        \n",
    "        \n",
    " \n",
    "    def init_Star(self):\n",
    "        m1 = np.zeros((self.n,1))\n",
    "        m2 = np.zeros((self.n,1))\n",
    "        n1 = np.zeros((self.n,1))\n",
    "        n2 = np.zeros((self.n,1))\n",
    "        \n",
    "        m1[0]=0.7      \n",
    "        for i in range(1,self.n):\n",
    "            k = i-1\n",
    "            m1[i] = 2.3*((m1[k])**2)*math.sin(math.pi*m1[k])\n",
    "        m2[0]=m1[self.n-1]\n",
    "        for i in range(1,self.n):\n",
    "            k = i-1\n",
    "            m2[i] = 2.3*((m2[k])**2)*math.sin(math.pi*m2[k])\n",
    "            \n",
    "        for i in range(self.n):        \n",
    "            n1[i] = int(np.ceil(m1[i]*(self.x_lb-self.x_lb))+self.x_lb) \n",
    "            n2[i] = int(np.ceil(m2[i]*(self.x_lb-self.x_lb))+self.x_lb)\n",
    "            self.x1.append(n1[i])\n",
    "            self.x2.append(n2[i])\n",
    "        self.e1 = [int(np.ceil(np.random.rand()*(2*self.volumemax)))-self.volumemax for i in range(self.n)]\n",
    "        self.e2 = [int(np.ceil(np.random.rand()*(2*self.volumemax)))-self.volumemax for i in range(self.n)]\n",
    "        \n",
    "    def init_Energy(self):\n",
    "        for i in range(self.n):\n",
    "            self.fit[i] = func(self.x1[i],self.x2[i])\n",
    "    \n",
    "    def init_MAXenergy(self):\n",
    "        fitbest = min(self.fit)\n",
    "        indbest = self.fit.tolist().index(fitbest)\n",
    "        self.xbest.append(self.x1[indbest])\n",
    "        self.xbest.append(self.x2[indbest])\n",
    "        self.prexbest = self.xbest\n",
    "\n",
    "    def iterator(self):       \n",
    "        for d in range(self.k):\n",
    "            for i in range(self.n):\n",
    "                w = int(np.ceil(self.w_start - (self.w_start-self.w_end)*d/self.k))\n",
    "                self.e1[i] = int(np.ceil(w*self.e1[i] + self.explore1*np.random.rand()*(self.prexbest[0]-self.x1[i]) + self.explore2*np.random.rand()*(self.xbest[0]-self.x1[i])))\n",
    "                self.e2[i] = int(np.ceil(w*self.e2[i] + self.explore1*np.random.rand()*(self.prexbest[1]-self.x2[i]) + self.explore2*np.random.rand()*(self.xbest[1]-self.x2[i])))\n",
    "                for j in range(self.n):\n",
    "                    if self.e1[j] < -self.volumemax:\n",
    "                        self.e1[j] = -self.volumemax\n",
    "                    elif self.e1[j] > self.volumemax:\n",
    "                        self.e1[j] = self.volumemax\n",
    "                    if self.e2[j] < -self.volumemax:\n",
    "                        self.e2[j] = -self.volumemax\n",
    "                    elif self.e2[j] > self.volumemax:\n",
    "                        self.e2[j] = self.volumemax\n",
    "                self.x1[i] = self.x1[i] + self.e1[i]\n",
    "                self.x2[i] = self.x2[i] + self.e2[i]\n",
    "                for j in range(self.n):\n",
    "                    if self.x1[j] < self.x_lb:\n",
    "                        self.x1[j] = self.x_lb\n",
    "                    elif self.x1[j] > self.x_ub-1:\n",
    "                        self.x1[j] = self.x_ub-1\n",
    "                    if self.x2[j] < self.x_lb:\n",
    "                        self.x2[j] = self.x_lb\n",
    "                    elif self.x2[j] > self.x_ub-1:\n",
    "                        self.x2[j] = self.x_ub-1 \n",
    "                self.fit[i] = func(self.x1[i],self.x2[i]) \n",
    "                if self.fit[i] < func(self.prexbest[0],self.prexbest[1]):\n",
    "                    self.prexbest[0] = self.x1[i]\n",
    "                    self.prexbest[1] = self.x2[i]\n",
    "                if self.fit[i] < func(self.xbest[0],self.xbest[1]):\n",
    "                    self.xbest[0] = self.prexbest[0]\n",
    "                    self.xbest[1] = self.prexbest[1]\n",
    "                self.fitbest = func(self.xbest[0],self.xbest[1])\n",
    "        return self.fitbest,self.xbest"
   ]
  },
  {
   "cell_type": "code",
   "execution_count": 35,
   "id": "ed186f6b",
   "metadata": {},
   "outputs": [
    {
     "name": "stdout",
     "output_type": "stream",
     "text": [
      "(array([-0.94680851]), [array([99], dtype=int64), array([70], dtype=int64)])\n"
     ]
    }
   ],
   "source": [
    "if __name__ == '__main__':\n",
    "    n = 30 #恒星数量\n",
    "    narvs = 2 #宇宙的维度\n",
    "    k = 100 # 膨胀的次数\n",
    "    x_lb = 1  # 宇宙的边界\n",
    "    x_ub = 100# 宇宙的边界\n",
    "    my_PUSE = PUSE(n=n, narvs=narvs, k=k, x_lb=x_lb, x_ub=x_ub)\n",
    "    fitness = my_PUSE.iterator()\n",
    "    print(fitness)"
   ]
  },
  {
   "cell_type": "code",
   "execution_count": null,
   "id": "753adc11",
   "metadata": {},
   "outputs": [],
   "source": []
  }
 ],
 "metadata": {
  "kernelspec": {
   "display_name": "Python 3",
   "language": "python",
   "name": "python3"
  },
  "language_info": {
   "codemirror_mode": {
    "name": "ipython",
    "version": 3
   },
   "file_extension": ".py",
   "mimetype": "text/x-python",
   "name": "python",
   "nbconvert_exporter": "python",
   "pygments_lexer": "ipython3",
   "version": "3.9.12"
  }
 },
 "nbformat": 4,
 "nbformat_minor": 5
}
